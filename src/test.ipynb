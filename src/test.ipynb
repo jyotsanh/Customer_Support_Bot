{
 "cells": [
  {
   "cell_type": "code",
   "execution_count": 2,
   "metadata": {},
   "outputs": [
    {
     "name": "stderr",
     "output_type": "stream",
     "text": [
      "g:\\Github\\Customer_Support_Bot\\venv\\Lib\\site-packages\\tqdm\\auto.py:21: TqdmWarning: IProgress not found. Please update jupyter and ipywidgets. See https://ipywidgets.readthedocs.io/en/stable/user_install.html\n",
      "  from .autonotebook import tqdm as notebook_tqdm\n"
     ]
    }
   ],
   "source": [
    "from graphs.part_2_graph import get_response"
   ]
  },
  {
   "cell_type": "code",
   "execution_count": 3,
   "metadata": {},
   "outputs": [
    {
     "data": {
      "text/plain": [
       "{'messages': [HumanMessage(content='Hi', additional_kwargs={}, response_metadata={}, id='b5fa7524-e0bc-4e83-a884-a06b2f454be2'),\n",
       "  AIMessage(content='Hello! How can I assist you today?\\n', additional_kwargs={}, response_metadata={'prompt_feedback': {'block_reason': 0, 'safety_ratings': []}, 'finish_reason': 'STOP', 'safety_ratings': []}, id='run-714759fc-a5ef-44fb-bd6e-a65417e38480-0', usage_metadata={'input_tokens': 324, 'output_tokens': 10, 'total_tokens': 334, 'input_token_details': {'cache_read': 0}})]}"
      ]
     },
     "execution_count": 3,
     "metadata": {},
     "output_type": "execute_result"
    }
   ],
   "source": [
    "get_response(prompt=\"Hi\",sender_id=\"123\")"
   ]
  },
  {
   "cell_type": "code",
   "execution_count": 1,
   "metadata": {},
   "outputs": [
    {
     "name": "stderr",
     "output_type": "stream",
     "text": [
      "g:\\Github\\Customer_Support_Bot\\venv\\Lib\\site-packages\\tqdm\\auto.py:21: TqdmWarning: IProgress not found. Please update jupyter and ipywidgets. See https://ipywidgets.readthedocs.io/en/stable/user_install.html\n",
      "  from .autonotebook import tqdm as notebook_tqdm\n"
     ]
    }
   ],
   "source": [
    "from data.vectore_store_maker import create_hotel_info_vector_store"
   ]
  },
  {
   "cell_type": "code",
   "execution_count": 2,
   "metadata": {},
   "outputs": [
    {
     "name": "stdout",
     "output_type": "stream",
     "text": [
      "<class 'dict'>\n",
      "{'hotel_name': 'Bomo', 'location': {'address': 'Lazimpat, Kathmandu, Nepal', 'latitude': 27.7226, 'longitude': 85.3223, 'proximity_to_airport': '6 km from Tribhuvan International Airport'}, 'description': \"Hotel Bomo is a boutique luxury property nestled in the heart of Kathmandu, blending traditional Nepali architecture with modern comfort. It's an ideal choice for leisure and business travelers seeking a serene yet accessible retreat.\", 'features': ['Traditional Nepali design with modern amenities', 'Rooftop terrace with panoramic city views', 'Spa and wellness center offering Ayurvedic treatments', 'Free high-speed Wi-Fi', 'Conference and meeting rooms', 'Multi-cuisine dining options', 'Fitness center', 'Airport shuttle service'], 'rooms': [{'type': 'Deluxe Room', 'price_per_night': 120, 'description': 'Comfortable room with traditional Nepali décor, a queen-sized bed, and modern amenities.', 'capacity': 2, 'amenities': ['Air conditioning', 'Flat-screen TV', 'Mini bar', 'Complimentary tea and coffee', 'Rainfall shower']}, {'type': 'Executive Suite', 'price_per_night': 200, 'description': 'Spacious suite featuring a living room, king-sized bed, and a private balcony with city views.', 'capacity': 3, 'amenities': ['Private balcony', 'Separate living area', 'Luxury bathroom with bathtub', 'Work desk', 'Complimentary bottled water']}, {'type': 'Heritage Suite', 'price_per_night': 300, 'description': 'A luxurious suite adorned with traditional Nepali craftsmanship, featuring a private terrace and exclusive amenities.', 'capacity': 2, 'amenities': ['Private terrace', 'Handcrafted wooden furniture', 'Complimentary Nepali tea service', 'Exclusive spa discounts', 'Butler service']}], 'dining': [{'name': 'Thakali Kitchen', 'cuisine': 'Authentic Nepali and Thakali cuisine', 'timing': '7:00 AM - 10:00 PM', 'highlights': ['Traditional Nepali Thali', 'Locally sourced ingredients']}, {'name': 'SkyLounge', 'cuisine': 'Continental and Asian fusion', 'timing': '5:00 PM - 11:00 PM', 'highlights': ['Rooftop dining', 'Live music events']}], 'activities': ['Guided tours to cultural heritage sites', 'Yoga and meditation sessions', 'Cooking classes on traditional Nepali cuisine', 'Evening cultural performances', 'Hiking and trekking coordination services'], 'reviews': [{'author': 'Ram Prasad', 'rating': 4.7, 'comment': 'A perfect blend of Nepali tradition and modern luxury. Loved the rooftop views!'}, {'author': 'Sita Shrestha', 'rating': 4.9, 'comment': 'The Heritage Suite was amazing, and the staff were very hospitable. Highly recommended!'}], 'policies': {'check_in': '2:00 PM', 'check_out': '12:00 PM', 'cancellation': 'Free cancellation up to 24 hours before check-in', 'pet_policy': 'Pets are not allowed.'}, 'contact_info': {'phone': '+977-1-442-1234', 'email': 'info@hotelbomo.com', 'website': 'https://www.hotelbomo.com'}}\n",
      "Number of hotels found: 1\n",
      "\n",
      "--- Processing Hotel: Bomo ---\n",
      "Created general hotel document for Bomo\n",
      "Created room document: Deluxe Room room\n",
      "Created room document: Executive Suite room\n",
      "Created room document: Heritage Suite room\n",
      "Created dining document: Thakali Kitchen\n",
      "Created dining document: SkyLounge\n",
      "Created activity document: Guided tours to cultural heritage sites\n",
      "Created activity document: Yoga and meditation sessions\n",
      "Created activity document: Cooking classes on traditional Nepali cuisine\n",
      "Created activity document: Evening cultural performances\n",
      "Created activity document: Hiking and trekking coordination services\n",
      "Created review document by Ram Prasad\n",
      "Created review document by Sita Shrestha\n",
      "Created policies document\n",
      "Created policies document\n",
      "Created policies document\n",
      "Created policies document\n",
      "Created contact document\n",
      "Created contact document\n",
      "Created contact document\n",
      "\n",
      "Total documents created: 20\n",
      "-------------------------\n",
      "[Document(metadata={'hotel_name': 'Bomo', 'location': \"{'address': 'Lazimpat, Kathmandu, Nepal', 'latitude': 27.7226, 'longitude': 85.3223, 'proximity_to_airport': '6 km from Tribhuvan International Airport'}\", 'features': 'Traditional Nepali design with modern amenities, Rooftop terrace with panoramic city views, Spa and wellness center offering Ayurvedic treatments, Free high-speed Wi-Fi, Conference and meeting rooms, Multi-cuisine dining options, Fitness center, Airport shuttle service', 'contact_info': \"{'phone': '+977-1-442-1234', 'email': 'info@hotelbomo.com', 'website': 'https://www.hotelbomo.com'}\"}, page_content=\"Hotel Bomo is a boutique luxury property nestled in the heart of Kathmandu, blending traditional Nepali architecture with modern comfort. It's an ideal choice for leisure and business travelers seeking a serene yet accessible retreat.\"), Document(metadata={'hotel_name': 'Bomo', 'room_type': 'Deluxe Room', 'price_per_night': 120, 'capacity': 2, 'amenities': 'Air conditioning, Flat-screen TV, Mini bar, Complimentary tea and coffee, Rainfall shower'}, page_content='Comfortable room with traditional Nepali décor, a queen-sized bed, and modern amenities.'), Document(metadata={'hotel_name': 'Bomo', 'room_type': 'Executive Suite', 'price_per_night': 200, 'capacity': 3, 'amenities': 'Private balcony, Separate living area, Luxury bathroom with bathtub, Work desk, Complimentary bottled water'}, page_content='Spacious suite featuring a living room, king-sized bed, and a private balcony with city views.'), Document(metadata={'hotel_name': 'Bomo', 'room_type': 'Heritage Suite', 'price_per_night': 300, 'capacity': 2, 'amenities': 'Private terrace, Handcrafted wooden furniture, Complimentary Nepali tea service, Exclusive spa discounts, Butler service'}, page_content='A luxurious suite adorned with traditional Nepali craftsmanship, featuring a private terrace and exclusive amenities.'), Document(metadata={'hotel_name': 'Bomo', 'dining_timings': '7:00 AM - 10:00 PM', 'highlights': 'Traditional Nepali Thali, Locally sourced ingredients'}, page_content='Thakali Kitchen - Authentic Nepali and Thakali cuisine'), Document(metadata={'hotel_name': 'Bomo', 'dining_timings': '5:00 PM - 11:00 PM', 'highlights': 'Rooftop dining, Live music events'}, page_content='SkyLounge - Continental and Asian fusion'), Document(metadata={'hotel_name': 'Bomo', 'type': 'activity'}, page_content='Guided tours to cultural heritage sites'), Document(metadata={'hotel_name': 'Bomo', 'type': 'activity'}, page_content='Yoga and meditation sessions'), Document(metadata={'hotel_name': 'Bomo', 'type': 'activity'}, page_content='Cooking classes on traditional Nepali cuisine'), Document(metadata={'hotel_name': 'Bomo', 'type': 'activity'}, page_content='Evening cultural performances'), Document(metadata={'hotel_name': 'Bomo', 'type': 'activity'}, page_content='Hiking and trekking coordination services'), Document(metadata={'hotel_name': 'Bomo', 'review_author': 'Ram Prasad', 'rating': 4.7}, page_content='A perfect blend of Nepali tradition and modern luxury. Loved the rooftop views!'), Document(metadata={'hotel_name': 'Bomo', 'review_author': 'Sita Shrestha', 'rating': 4.9}, page_content='The Heritage Suite was amazing, and the staff were very hospitable. Highly recommended!'), Document(metadata={'hotel_name': 'Bomo', 'type': 'policies'}, page_content='check_in'), Document(metadata={'hotel_name': 'Bomo', 'type': 'policies'}, page_content='check_out'), Document(metadata={'hotel_name': 'Bomo', 'type': 'policies'}, page_content='cancellation'), Document(metadata={'hotel_name': 'Bomo', 'type': 'policies'}, page_content='pet_policy'), Document(metadata={'hotel_name': 'Bomo', 'type': 'Contact Info'}, page_content='phone'), Document(metadata={'hotel_name': 'Bomo', 'type': 'Contact Info'}, page_content='email'), Document(metadata={'hotel_name': 'Bomo', 'type': 'Contact Info'}, page_content='website')]\n",
      "------------------------------------\n",
      "New vector store created and saved.\n"
     ]
    }
   ],
   "source": [
    "create_hotel_info_vector_store()"
   ]
  },
  {
   "cell_type": "code",
   "execution_count": 5,
   "metadata": {},
   "outputs": [],
   "source": [
    "from database.connection import get_db\n"
   ]
  },
  {
   "cell_type": "code",
   "execution_count": 2,
   "metadata": {},
   "outputs": [],
   "source": [
    "import sqlite3\n",
    "conn = sqlite3.connect(\"Hotel_Bomo.db\")"
   ]
  },
  {
   "cell_type": "code",
   "execution_count": 3,
   "metadata": {},
   "outputs": [
    {
     "name": "stdout",
     "output_type": "stream",
     "text": [
      "Table 'test_booking' created successfully.\n"
     ]
    }
   ],
   "source": [
    "# Create a cursor object\n",
    "cursor = conn.cursor()\n",
    "# SQL query to create the students table\n",
    "# Create test_booking table if it doesn't exist\n",
    "cursor.execute(\"\"\"\n",
    "            CREATE TABLE IF NOT EXISTS test_booking (\n",
    "                id INTEGER PRIMARY KEY,\n",
    "                hotel_name TEXT,\n",
    "                check_in_date TEXT,\n",
    "                check_out_date TEXT,\n",
    "                num_rooms INTEGER,\n",
    "                num_guests INTEGER\n",
    "            )\n",
    "        \"\"\")\n",
    "conn.commit()\n",
    "\n",
    "        # Close the connection\n",
    "conn.close()\n",
    "\n",
    "print(\"Table 'test_booking' created successfully.\")"
   ]
  },
  {
   "cell_type": "code",
   "execution_count": 1,
   "metadata": {},
   "outputs": [
    {
     "name": "stdout",
     "output_type": "stream",
     "text": [
      "Dummy data inserted successfully.\n"
     ]
    }
   ],
   "source": [
    "import sqlite3\n",
    "import os\n",
    "\n",
    "def insert_dummy_data():\n",
    "    try:\n",
    "        conn = sqlite3.connect(f\"Hotel_Bomo.db\")\n",
    "        c = conn.cursor()\n",
    "\n",
    "        # Insert dummy rooms\n",
    "        rooms = [\n",
    "            (1, \"Single\", 50.0, 2, 1),\n",
    "            (2, \"Double\", 75.0, 4, 1),\n",
    "            (3, \"Suite\", 150.0, 6, 1),\n",
    "            (4, \"Single\", 50.0, 2, 1),\n",
    "            (5, \"Double\", 75.0, 4, 1)\n",
    "        ]\n",
    "        c.executemany(\"\"\"\n",
    "            INSERT INTO rooms (id, room_type, price_per_night, capacity, is_available)\n",
    "            VALUES (?, ?, ?, ?, ?)\n",
    "        \"\"\", rooms)\n",
    "\n",
    "        # Insert dummy customers\n",
    "        customers = [\n",
    "            (1, \"John Doe\", \"john@example.com\", \"1234567890\", \"123 Main St\"),\n",
    "            (2, \"Jane Smith\", \"jane@example.com\", \"9876543210\", \"456 Oak Ave\")\n",
    "        ]\n",
    "        c.executemany(\"\"\"\n",
    "            INSERT INTO customers (id, name, email, phone, address)\n",
    "            VALUES (?, ?, ?, ?, ?)\n",
    "        \"\"\", customers)\n",
    "\n",
    "        # Insert dummy bookings\n",
    "        bookings = [\n",
    "            (1, 1, 1, \"2024-12-20\", \"2024-12-25\", 250.0, \"Confirmed\"),\n",
    "            (2, 2, 2, \"2024-12-22\", \"2024-12-27\", 375.0, \"Confirmed\")\n",
    "        ]\n",
    "        c.executemany(\"\"\"\n",
    "            INSERT INTO bookings (id, customer_id, room_id, check_in_date, check_out_date, total_price, status)\n",
    "            VALUES (?, ?, ?, ?, ?, ?, ?)\n",
    "        \"\"\", bookings)\n",
    "\n",
    "        conn.commit()\n",
    "        conn.close()\n",
    "        print(\"Dummy data inserted successfully.\")\n",
    "\n",
    "    except Exception as e:\n",
    "        print(f\"Error inserting dummy data: {e}\")\n",
    "\n",
    "if __name__ == \"__main__\":\n",
    "    insert_dummy_data()\n"
   ]
  },
  {
   "cell_type": "code",
   "execution_count": 4,
   "metadata": {},
   "outputs": [
    {
     "ename": "OperationalError",
     "evalue": "Cannot add a UNIQUE column",
     "output_type": "error",
     "traceback": [
      "\u001b[1;31m---------------------------------------------------------------------------\u001b[0m",
      "\u001b[1;31mOperationalError\u001b[0m                          Traceback (most recent call last)",
      "Cell \u001b[1;32mIn[4], line 6\u001b[0m\n\u001b[0;32m      3\u001b[0m c \u001b[38;5;241m=\u001b[39m conn\u001b[38;5;241m.\u001b[39mcursor()\n\u001b[0;32m      5\u001b[0m \u001b[38;5;66;03m# Add verification_code column if it doesn't exist\u001b[39;00m\n\u001b[1;32m----> 6\u001b[0m \u001b[43mc\u001b[49m\u001b[38;5;241;43m.\u001b[39;49m\u001b[43mexecute\u001b[49m\u001b[43m(\u001b[49m\u001b[38;5;124;43m\"\"\"\u001b[39;49m\n\u001b[0;32m      7\u001b[0m \u001b[38;5;124;43m    ALTER TABLE customers \u001b[39;49m\n\u001b[0;32m      8\u001b[0m \u001b[38;5;124;43m    ADD COLUMN verification_code TEXT UNIQUE\u001b[39;49m\n\u001b[0;32m      9\u001b[0m \u001b[38;5;124;43m\"\"\"\u001b[39;49m\u001b[43m)\u001b[49m\n\u001b[0;32m     11\u001b[0m conn\u001b[38;5;241m.\u001b[39mcommit()\n\u001b[0;32m     12\u001b[0m conn\u001b[38;5;241m.\u001b[39mclose()\n",
      "\u001b[1;31mOperationalError\u001b[0m: Cannot add a UNIQUE column"
     ]
    }
   ],
   "source": [
    "import sqlite3\n",
    "conn = sqlite3.connect(\"Hotel_Bomo.db\")\n",
    "c = conn.cursor()\n",
    "\n",
    "# Add verification_code column if it doesn't exist\n",
    "c.execute(\"\"\"\n",
    "    ALTER TABLE customers \n",
    "    ADD COLUMN verification_code TEXT UNIQUE\n",
    "\"\"\")\n",
    "\n",
    "conn.commit()\n",
    "conn.close()"
   ]
  },
  {
   "cell_type": "code",
   "execution_count": 5,
   "metadata": {},
   "outputs": [
    {
     "data": {
      "text/plain": [
       "<sqlite3.Cursor at 0x1e19445d7c0>"
      ]
     },
     "execution_count": 5,
     "metadata": {},
     "output_type": "execute_result"
    }
   ],
   "source": [
    "import sqlite3\n",
    "\n",
    "conn = sqlite3.connect(\"Hotel_Bomo.db\")\n",
    "c = conn.cursor()\n",
    "\n",
    "# Create a new table with the verification_code column and UNIQUE constraint\n",
    "c.execute(\"\"\"\n",
    "    CREATE TABLE customers_with_keys (\n",
    "        id INTEGER PRIMARY KEY,\n",
    "        name TEXT,\n",
    "        email TEXT,\n",
    "        phone TEXT,\n",
    "        address TEXT,\n",
    "        verification_code TEXT UNIQUE\n",
    "    )\n",
    "\"\"\")"
   ]
  },
  {
   "cell_type": "code",
   "execution_count": 6,
   "metadata": {},
   "outputs": [
    {
     "data": {
      "text/plain": [
       "<sqlite3.Cursor at 0x1e19445d140>"
      ]
     },
     "execution_count": 6,
     "metadata": {},
     "output_type": "execute_result"
    }
   ],
   "source": [
    "import sqlite3\n",
    "\n",
    "conn = sqlite3.connect(\"Hotel_Bomo.db\")\n",
    "c = conn.cursor()\n",
    "\n",
    "# Create a new table with the verification_code column and UNIQUE constraint\n",
    "c.execute(\"\"\"\n",
    "    CREATE TABLE booking_with_keys (\n",
    "        id INTEGER PRIMARY KEY,\n",
    "        hotel_name TEXT,\n",
    "        check_in_date TEXT,\n",
    "        check_out_date TEXT,\n",
    "        num_rooms INTEGER,\n",
    "        num_guests INTEGER,\n",
    "        verification_code TEXT UNIQUE\n",
    "    )\n",
    "\"\"\")"
   ]
  },
  {
   "cell_type": "code",
   "execution_count": 2,
   "metadata": {},
   "outputs": [],
   "source": [
    "import sqlite3\n",
    "import os\n",
    "# Establish database connection\n",
    "conn = sqlite3.connect(f\"{os.getenv('DATABASE_PATH')}.db\")\n",
    "cursor = conn.cursor()\n",
    "\n",
    "# Different deletion methods:\n",
    "\n",
    "# 1. Delete all records from a table\n",
    "cursor.execute(\"DELETE FROM booking_with_keys\")\n",
    "cursor.execute(\"DELETE FROM customers_with_keys\")\n",
    "# Always commit your changes\n",
    "conn.commit()\n",
    "\n",
    "# Close the connection when done\n",
    "conn.close()"
   ]
  },
  {
   "cell_type": "code",
   "execution_count": 2,
   "metadata": {},
   "outputs": [],
   "source": [
    "import sqlite3\n",
    "import os\n",
    "\n",
    "# Establish database connection\n",
    "conn = sqlite3.connect(f\"{os.getenv('DATABASE_PATH')}.db\")\n",
    "cursor = conn.cursor()\n",
    "existing_value = '57613'\n",
    "# Update verification code\n",
    "new_verification_code = '057613'\n",
    "\n",
    "# Method 1: Update all rows (use cautiously)\n",
    "cursor.execute(\"UPDATE booking_with_keys SET verification_code = ?\", (new_verification_code,))\n",
    "\n",
    "# Commit the changes\n",
    "conn.commit()\n",
    "\n",
    "# Close the connection\n",
    "conn.close()"
   ]
  },
  {
   "cell_type": "code",
   "execution_count": null,
   "metadata": {},
   "outputs": [],
   "source": []
  }
 ],
 "metadata": {
  "kernelspec": {
   "display_name": "venv",
   "language": "python",
   "name": "python3"
  },
  "language_info": {
   "codemirror_mode": {
    "name": "ipython",
    "version": 3
   },
   "file_extension": ".py",
   "mimetype": "text/x-python",
   "name": "python",
   "nbconvert_exporter": "python",
   "pygments_lexer": "ipython3",
   "version": "3.11.9"
  }
 },
 "nbformat": 4,
 "nbformat_minor": 2
}
